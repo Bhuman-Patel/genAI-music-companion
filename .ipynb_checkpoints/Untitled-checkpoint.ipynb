{
 "cells": [
  {
   "cell_type": "code",
   "execution_count": 2,
   "id": "8978ab15-86f9-45e2-b544-b53526ebd7b2",
   "metadata": {},
   "outputs": [
    {
     "name": "stdout",
     "output_type": "stream",
     "text": [
      "Column names:\n",
      "['KB', 'ALBUM', 'SONGS', 'CATEGORY', 'SINGER NAME', 'FINAL NPR', 'DAW', 'STUDIO ONE', 'IT BASE / NEW PROJECT', 'ON WHICH IT', 'TEMPO', 'BEAT', 'TAAL', 'SCALL', 'RAAGA', 'ARKIVE', 'NAMING', 'RHY. NPR', 'RHY. COLOR', 'MIX-WAVE', 'MIX-MP3', 'IT ', 'BATCH.CONVERTER', 'IT DETAIL', 'MISSING FILE', 'MISSING FILE DESCRIPTION', 'MISSING PLUGINS', 'LYRICS PDF', 'CHORD CHART', 'STRING NOTATION', 'NOTE']\n"
     ]
    }
   ],
   "source": [
    "import pandas as pd\n",
    "\n",
    "# Load the Excel file\n",
    "\n",
    "\n",
    "# Display all column names\n",
    "print(\"Column names:\")\n",
    "print(df.columns.tolist())\n"
   ]
  },
  {
   "cell_type": "code",
   "execution_count": null,
   "id": "4094797e-a1b8-4d8e-b4b6-4e624c2a61a3",
   "metadata": {},
   "outputs": [],
   "source": [
    "import pandas as pd\n",
    "import re\n",
    "\n",
    "file_path = '/Users/bhuman/Downloads/All Release Kirtan Bhakti for Chadan Vaghan Rename.xlsx'\n",
    "df = pd.read_excel(file_path)\n",
    "\n",
    "# Step 1: Get unique non-null values from entire DataFrame\n",
    "unique_values = set()\n",
    "for col in df.columns:\n",
    "    unique_values.update(df[col].dropna().unique())\n",
    "unique_list = list(unique_values)\n",
    "\n",
    "# Step 2: Remove leading numbers/spaces from 'SONGS' column\n",
    "def clean_song_title(song):\n",
    "    if isinstance(song, str):\n",
    "        return re.sub(r'^\\d+\\s*', '', song.strip())\n",
    "    return song\n",
    "\n",
    "df['SONGS_CLEANED'] = df['SONGS'].apply(clean_song_title)\n",
    "\n",
    "# Step 3: Initialize FLAG column with 0\n",
    "df['FLAG'] = 0\n",
    "\n",
    "# Step 4: Iterate over unique values and mark FLAG as 1 if match is found\n",
    "for val in unique_list:\n",
    "    if isinstance(val, str):\n",
    "        df.loc[df['SONGS_CLEANED'] == val.strip(), 'FLAG'] = 1\n",
    "\n",
    "# Step 5: (Optional) Drop the cleaned column if not needed\n",
    "# df.drop(columns=['SONGS_CLEANED'], inplace=True)\n",
    "\n",
    "# View or save result\n",
    "df.to_excel(\"flagged_kirtan_data.xlsx\", index=False)\n"
   ]
  }
 ],
 "metadata": {
  "kernelspec": {
   "display_name": "Python 3 (ipykernel)",
   "language": "python",
   "name": "python3"
  },
  "language_info": {
   "codemirror_mode": {
    "name": "ipython",
    "version": 3
   },
   "file_extension": ".py",
   "mimetype": "text/x-python",
   "name": "python",
   "nbconvert_exporter": "python",
   "pygments_lexer": "ipython3",
   "version": "3.10.0"
  }
 },
 "nbformat": 4,
 "nbformat_minor": 5
}
